{
 "cells": [
  {
   "cell_type": "raw",
   "id": "e01ca51f-b79e-4e50-a4f3-b0de566815b0",
   "metadata": {},
   "source": [
    "Q. Explain the following with an example\n",
    "\n",
    "AI- AI-powered personal assistants, such as Siri, Google Assistant and Amazon Alexa, are integrated into smartphones, smart speakers and other devices and can perform a wide range of tasks,\n",
    "\n",
    "ML  -  use historical data as input to predict new output values.\n",
    "Whenever Google Maps (or your preferred navigation system) gives you an estimated time of arrival, it's using machine learning to predict your trip's duration.\n",
    "\n",
    "Deep L  - Automotive researchers are using deep learning to automatically detect objects such as stop signs and traffic lights. In addition, deep learning is used to detect pedestrians, which helps decrease accidents.\n",
    "1. Virtual assistants · 2. Translations · 3. Vision for driverless delivery trucks,\n",
    "\n",
    "Q2 - What is supervised learning? List some examples of supervised learning.\n",
    "\n",
    "What is supervised learning? Supervised learning, also known as supervised machine learning, is a subcategory of machine learning and artificial intelligence. It is defined by its use of labeled datasets to train algorithms that to classify data or predict outcomes accurately.\n",
    "\n",
    "Q3- What is unsupervised learning? List some examples of unsupervised learning.\n",
    "\n",
    "unsupervised learning algorithms include K-Means Clustering, Principal Component Analysis and Hierarchical Clustering.\n",
    "\n",
    "Q4- What is the difference between AI, ML, DL, and DS?\n",
    "\n",
    "Artificial Intelligence uses logic and decision trees. Machine Learning uses statistical models. Data Science deals with structured and unstructured data. Chatbots, and Voice assistants are popular applications of AI.\n",
    "\n",
    "\n",
    "Q5- What are the main differences between supervised, unsupervised, and semi-supervised learning?\n",
    "\n",
    "Supervised learning is a problem with labeled data, expecting to develop predictive capability. Unsupervised learning is discovering process, diving into unlabeled data to capture hidden information. Semi-supervised learning is a blend of supervised and unsupervised learning.\n",
    "\n",
    "\n",
    "Q6- What is train, test and validation split? Explain the importanct of each term.\n",
    "\n",
    "Training data is the set of the data on which the actual training takes place. Validation split helps to improve the model performance by fine-tuning the model after each epoch. The test set informs us about the final accuracy of the model after completing the training phase\n",
    "\n",
    "\n",
    "Q7- How can unsupervised learning be used in anomaly detection?\n",
    "\n",
    "Anomaly detection techniques of unsupervised nature assume that normal data points occur considerably more frequently than anomalous data points. This assumption is used to classify data points that occur less frequently as anomalies. Unsupervised techniques assign each data point a score instead of a label.\n",
    "\n",
    "Q8- List down some commonly used supervised learning aleorithms and unsupervised learning algorithms.\n",
    "\n",
    "The most commonly used Supervised Learning algorithms are decision tree, logistic regression, linear regression, support vector machine. The most commonly used Unsupervised Learning algorithms are k-means clustering, hierarchical clustering, and apriori algorithm."
   ]
  }
 ],
 "metadata": {
  "kernelspec": {
   "display_name": "Python 3 (ipykernel)",
   "language": "python",
   "name": "python3"
  },
  "language_info": {
   "codemirror_mode": {
    "name": "ipython",
    "version": 3
   },
   "file_extension": ".py",
   "mimetype": "text/x-python",
   "name": "python",
   "nbconvert_exporter": "python",
   "pygments_lexer": "ipython3",
   "version": "3.10.8"
  }
 },
 "nbformat": 4,
 "nbformat_minor": 5
}
